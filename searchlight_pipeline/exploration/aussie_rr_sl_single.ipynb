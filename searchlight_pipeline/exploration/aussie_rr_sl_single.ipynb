{
 "cells": [
  {
   "cell_type": "markdown",
   "id": "c6c3b5cf-8fc4-4771-bbae-e337cf980d6f",
   "metadata": {},
   "source": [
    "# Whole Brain Searchlight"
   ]
  },
  {
   "cell_type": "markdown",
   "id": "22d76b43-ef1c-43e6-b8ba-55a536aac89c",
   "metadata": {},
   "source": [
    "This is the (heavily) adapted searchlight classification script being deployed for the Round Robin Person Decoding analysis project. Originally by BrainIAK and adapted and deployed by *Aussie Frost* of CSNL. Updated May 2023."
   ]
  },
  {
   "cell_type": "markdown",
   "id": "594fb27c-b704-47a1-9794-de78d196b722",
   "metadata": {
    "jp-MarkdownHeadingCollapsed": true,
    "tags": []
   },
   "source": [
    "## Loading Data (For Reference)"
   ]
  },
  {
   "cell_type": "code",
   "execution_count": 1,
   "id": "0404563d-e7dc-47db-8aa3-b70209a531dd",
   "metadata": {},
   "outputs": [
    {
     "name": "stderr",
     "output_type": "stream",
     "text": [
      "/packages/miniconda/20190102/envs/brainiak-20221110/lib/python3.6/site-packages/nilearn/__init__.py:69: FutureWarning: Python 3.6 support is deprecated and will be removed in release 0.10 of Nilearn. Consider switching to Python 3.8 or 3.9.\n",
      "  _python_deprecation_warnings()\n"
     ]
    },
    {
     "data": {
      "application/javascript": [
       "IPython.notebook.set_autosave_interval(5000)"
      ]
     },
     "metadata": {},
     "output_type": "display_data"
    },
    {
     "name": "stdout",
     "output_type": "stream",
     "text": [
      "Autosaving every 5 seconds\n"
     ]
    }
   ],
   "source": [
    "#supress warnings and make imports\n",
    "import warnings\n",
    "import sys \n",
    "if not sys.warnoptions:\n",
    "    warnings.simplefilter(\"ignore\")\n",
    "import os\n",
    "import pandas as pd\n",
    "import nibabel as nib\n",
    "import numpy as np\n",
    "from nilearn.input_data import NiftiMasker\n",
    "import scipy.io\n",
    "from scipy import stats\n",
    "from sklearn import preprocessing\n",
    "import matplotlib.pyplot as plt\n",
    "import seaborn as sns \n",
    "\n",
    "from sklearn.svm import LinearSVC\n",
    "from sklearn.model_selection import PredefinedSplit\n",
    "from sklearn.preprocessing import StandardScaler\n",
    "from brainiak.utils.fmrisim import _double_gamma_hrf as hrf_func\n",
    "from brainiak.utils import fmrisim as sim\n",
    "\n",
    "%matplotlib inline \n",
    "%autosave 5\n",
    "sns.set(style = 'white', context='poster', rc={\"lines.linewidth\": 2.5})\n",
    "sns.set(palette=\"colorblind\")"
   ]
  },
  {
   "cell_type": "code",
   "execution_count": 2,
   "id": "738940d1-9697-452e-8140-817f960a7cdc",
   "metadata": {},
   "outputs": [],
   "source": [
    "# Load and perpare data for one subject (unneeded)\n",
    "def load_fs_data(data_path, sub_id, mask=''):\n",
    "    # find file path\n",
    "    sub = 'sub-' + (sub_id)\n",
    "    input_dir = os.path.join(data_path, sub)\n",
    "    data_file = os.path.join(input_dir, '_ses-wave1_task-RR_acq-1_bold_trimmed.nii.gz')\n",
    "    label_file =  os.path.join(input_dir, 'label.npz') \n",
    "    if mask == '':\n",
    "        mask_file = os.path.join(data_path, 'wb_mask.nii.gz')\n",
    "    else:\n",
    "        mask_file = os.path.join(data_path, '{}_mask.nii.gz'.format(mask))\n",
    "\n",
    "    # load bold data and some header information so that we can save searchlight results later\n",
    "    data_file = nib.load(data_file)\n",
    "    bold_data = data_file.get_fdata()\n",
    "    affine_mat = data_file.affine\n",
    "    dimsize = data_file.header.get_zooms() \n",
    "    \n",
    "    # load label\n",
    "    label = np.load(label_file)\n",
    "    label = label['label']\n",
    "\n",
    "    # load mask\n",
    "    brain_mask = nib.load(mask_file)\n",
    "    brain_mask = brain_mask.get_fdata()\n",
    "\n",
    "    return bold_data, label, brain_mask, affine_mat, dimsize"
   ]
  },
  {
   "cell_type": "code",
   "execution_count": 3,
   "id": "3754a001-a6fd-49dc-b11b-9c205e3786ab",
   "metadata": {},
   "outputs": [
    {
     "name": "stdout",
     "output_type": "stream",
     "text": [
      "    Volume   Target   Run\n",
      "0        0        1     1\n",
      "1        1        2     1\n",
      "2        2        3     1\n",
      "3        3        4     1\n",
      "4        4        5     1\n",
      "5        5        1     2\n",
      "6        6        2     2\n",
      "7        7        3     2\n",
      "8        8        4     2\n",
      "9        9        5     2\n",
      "10      10        1     3\n",
      "11      11        2     3\n",
      "12      12        3     3\n",
      "13      13        4     3\n",
      "14      14        5     3\n",
      "15      15        1     4\n",
      "16      16        2     4\n",
      "17      17        3     4\n",
      "18      18        4     4\n",
      "19      19        5     4\n",
      "20      20        1     5\n",
      "21      21        2     5\n",
      "22      22        3     5\n",
      "23      23        4     5\n",
      "24      24        5     5\n"
     ]
    },
    {
     "data": {
      "text/plain": [
       "array([[ 0,  1,  1],\n",
       "       [ 1,  2,  1],\n",
       "       [ 2,  3,  1],\n",
       "       [ 3,  4,  1],\n",
       "       [ 4,  5,  1],\n",
       "       [ 5,  1,  2],\n",
       "       [ 6,  2,  2],\n",
       "       [ 7,  3,  2],\n",
       "       [ 8,  4,  2],\n",
       "       [ 9,  5,  2],\n",
       "       [10,  1,  3],\n",
       "       [11,  2,  3],\n",
       "       [12,  3,  3],\n",
       "       [13,  4,  3],\n",
       "       [14,  5,  3],\n",
       "       [15,  1,  4],\n",
       "       [16,  2,  4],\n",
       "       [17,  3,  4],\n",
       "       [18,  4,  4],\n",
       "       [19,  5,  4],\n",
       "       [20,  1,  5],\n",
       "       [21,  2,  5],\n",
       "       [22,  3,  5],\n",
       "       [23,  4,  5],\n",
       "       [24,  5,  5]])"
      ]
     },
     "execution_count": 3,
     "metadata": {},
     "output_type": "execute_result"
    }
   ],
   "source": [
    "#data = pd.read_csv(\"/projects/csnl/shared/round_robin_qc/analysis/braniak_tutorials/G01S01_onsets_ITI.csv\")\n",
    "data = pd.read_csv(\"/projects/csnl/shared/round_robin_qc/analysis/no_st_qc/sl_train_G01S01.csv\")\n",
    "print(data)\n",
    "data = data.values\n",
    "data"
   ]
  },
  {
   "cell_type": "code",
   "execution_count": 4,
   "id": "a709b240-e200-4b18-9280-10ec757ecf1b",
   "metadata": {},
   "outputs": [
    {
     "data": {
      "text/plain": [
       "array([[ 0,  1,  1],\n",
       "       [ 1,  2,  1],\n",
       "       [ 2,  3,  1],\n",
       "       [ 3,  4,  1],\n",
       "       [ 4,  5,  1],\n",
       "       [ 5,  1,  2],\n",
       "       [ 6,  2,  2],\n",
       "       [ 7,  3,  2],\n",
       "       [ 8,  4,  2],\n",
       "       [ 9,  5,  2],\n",
       "       [10,  1,  3],\n",
       "       [11,  2,  3],\n",
       "       [12,  3,  3],\n",
       "       [13,  4,  3],\n",
       "       [14,  5,  3],\n",
       "       [15,  1,  4],\n",
       "       [16,  2,  4],\n",
       "       [17,  3,  4],\n",
       "       [18,  4,  4],\n",
       "       [19,  5,  4],\n",
       "       [20,  1,  5],\n",
       "       [21,  2,  5],\n",
       "       [22,  3,  5],\n",
       "       [23,  4,  5],\n",
       "       [24,  5,  5]])"
      ]
     },
     "execution_count": 4,
     "metadata": {},
     "output_type": "execute_result"
    }
   ],
   "source": [
    "# show data\n",
    "data"
   ]
  },
  {
   "cell_type": "code",
   "execution_count": 5,
   "id": "a441e46e-2a38-4b41-934b-5702c3d44108",
   "metadata": {},
   "outputs": [
    {
     "name": "stdout",
     "output_type": "stream",
     "text": [
      "targets:\n",
      "\n",
      " [1 2 3 4 5 1 2 3 4 5 1 2 3 4 5 1 2 3 4 5 1 2 3 4 5] \n",
      "\n",
      "\n",
      "volumes:\n",
      "\n",
      "[ 0  1  2  3  4  5  6  7  8  9 10 11 12 13 14 15 16 17 18 19 20 21 22 23\n",
      " 24]\n"
     ]
    }
   ],
   "source": [
    "run_id = 1\n",
    "\n",
    "#time_points_mask = data[:, 2] #== run_id\n",
    "\n",
    "labels = data[:, 1]\n",
    "\n",
    "volumes = data[:, 0]\n",
    "\n",
    "print('targets:\\n\\n %s \\n\\n' % labels)\n",
    "print('volumes:\\n\\n%s' % volumes)"
   ]
  },
  {
   "cell_type": "code",
   "execution_count": 6,
   "id": "8ded46b0-4a98-43f6-8f6e-af5ea4116225",
   "metadata": {},
   "outputs": [
    {
     "data": {
      "image/png": "[encoded data removed]",
      "text/plain": [
       "<Figure size 432x288 with 1 Axes>"
      ]
     },
     "metadata": {},
     "output_type": "display_data"
    }
   ],
   "source": [
    "# Make an empty plot\n",
    "plt.figure()\n",
    "\n",
    "# Plot the data\n",
    "plt.plot(volumes, labels)\n",
    "\n",
    "# you can add plot title like this\n",
    "plt.title('stimulus presentation')\n",
    "\n",
    "# you can set xlabel like this\n",
    "plt.xlabel('volumes');"
   ]
  },
  {
   "cell_type": "code",
   "execution_count": 7,
   "id": "af8a39dd-45a4-497a-bb94-0e057d80a354",
   "metadata": {},
   "outputs": [],
   "source": [
    "label_dict = {1 : \"target1\", 2 : \"target2\", 3 : \"target3\", 4 : \"target4\", 5 : \"target5\"}"
   ]
  },
  {
   "cell_type": "code",
   "execution_count": 8,
   "id": "a3dcbef0-6ea2-4868-a823-5bdbc78e8f81",
   "metadata": {},
   "outputs": [
    {
     "data": {
      "text/plain": [
       "([<matplotlib.axis.XTick at 0x2aaad92b9208>,\n",
       "  <matplotlib.axis.XTick at 0x2aaad92a7da0>,\n",
       "  <matplotlib.axis.XTick at 0x2aaad92a7a58>,\n",
       "  <matplotlib.axis.XTick at 0x2aaad9312b00>,\n",
       "  <matplotlib.axis.XTick at 0x2aaad9312f98>,\n",
       "  <matplotlib.axis.XTick at 0x2aaad931b470>,\n",
       "  <matplotlib.axis.XTick at 0x2aaad931b908>,\n",
       "  <matplotlib.axis.XTick at 0x2aaad931bda0>,\n",
       "  <matplotlib.axis.XTick at 0x2aaad9323278>,\n",
       "  <matplotlib.axis.XTick at 0x2aaad9323710>,\n",
       "  <matplotlib.axis.XTick at 0x2aaad931b208>,\n",
       "  <matplotlib.axis.XTick at 0x2aaad9312358>,\n",
       "  <matplotlib.axis.XTick at 0x2aaad9323a58>,\n",
       "  <matplotlib.axis.XTick at 0x2aaad9323ef0>,\n",
       "  <matplotlib.axis.XTick at 0x2aaad932b3c8>,\n",
       "  <matplotlib.axis.XTick at 0x2aaad932b860>,\n",
       "  <matplotlib.axis.XTick at 0x2aaad932bcf8>,\n",
       "  <matplotlib.axis.XTick at 0x2aaad93361d0>,\n",
       "  <matplotlib.axis.XTick at 0x2aaad9336668>,\n",
       "  <matplotlib.axis.XTick at 0x2aaad932b5f8>,\n",
       "  <matplotlib.axis.XTick at 0x2aaad93234a8>,\n",
       "  <matplotlib.axis.XTick at 0x2aaad9336438>,\n",
       "  <matplotlib.axis.XTick at 0x2aaad9336dd8>,\n",
       "  <matplotlib.axis.XTick at 0x2aaad933f2b0>,\n",
       "  <matplotlib.axis.XTick at 0x2aaad933f748>],\n",
       " [Text(0, 0, ''),\n",
       "  Text(0, 0, ''),\n",
       "  Text(0, 0, ''),\n",
       "  Text(0, 0, ''),\n",
       "  Text(0, 0, ''),\n",
       "  Text(0, 0, ''),\n",
       "  Text(0, 0, ''),\n",
       "  Text(0, 0, ''),\n",
       "  Text(0, 0, ''),\n",
       "  Text(0, 0, ''),\n",
       "  Text(0, 0, ''),\n",
       "  Text(0, 0, ''),\n",
       "  Text(0, 0, ''),\n",
       "  Text(0, 0, ''),\n",
       "  Text(0, 0, ''),\n",
       "  Text(0, 0, ''),\n",
       "  Text(0, 0, ''),\n",
       "  Text(0, 0, ''),\n",
       "  Text(0, 0, ''),\n",
       "  Text(0, 0, ''),\n",
       "  Text(0, 0, ''),\n",
       "  Text(0, 0, ''),\n",
       "  Text(0, 0, ''),\n",
       "  Text(0, 0, ''),\n",
       "  Text(0, 0, '')])"
      ]
     },
     "execution_count": 8,
     "metadata": {},
     "output_type": "execute_result"
    },
    {
     "data": {
      "image/png": "[encoded data removed]",
      "text/plain": [
       "<Figure size 1008x360 with 1 Axes>"
      ]
     },
     "metadata": {},
     "output_type": "display_data"
    }
   ],
   "source": [
    "n_conditions = len(label_dict)\n",
    "cur_pals = sns.color_palette('colorblind', n_colors=n_conditions)\n",
    "\n",
    "# create a plotting panel \n",
    "f, ax = plt.subplots(1,1, figsize = (14, 5))\n",
    "\n",
    "# plot the label for each condition\n",
    "for i_cond in range(n_conditions): \n",
    "    label = list(label_dict.keys())[i_cond]\n",
    "    temp_mask = label == labels\n",
    "    ax.scatter(volumes[temp_mask], labels[temp_mask], \n",
    "               color = cur_pals[i_cond], marker = 'o')\n",
    "ax.legend(label_dict.values())\n",
    "\n",
    "# connect the dots \n",
    "ax.plot(volumes, labels, color = 'black', alpha = .5)\n",
    "\n",
    "# mark the plot\n",
    "ax.set_title('Stimulus Presentation for Subject %s' % (run_id))\n",
    "ax.set_yticks(list(label_dict.keys()))\n",
    "ax.set_yticklabels(label_dict.values())\n",
    "ax.set_xlabel('volumes');\n",
    "plt.xticks(volumes)"
   ]
  },
  {
   "cell_type": "code",
   "execution_count": 9,
   "id": "7dc98622-d82f-4bed-80e7-da67345ef098",
   "metadata": {},
   "outputs": [],
   "source": [
    "### load fmri data"
   ]
  },
  {
   "cell_type": "code",
   "execution_count": 10,
   "id": "17e9a6d9-56f9-47ff-b6a9-7d7ac904fa70",
   "metadata": {},
   "outputs": [
    {
     "ename": "NameError",
     "evalue": "name 'TRs_run' is not defined",
     "output_type": "error",
     "traceback": [
      "\u001b[0;31m---------------------------------------------------------------------------\u001b[0m",
      "\u001b[0;31mNameError\u001b[0m                                 Traceback (most recent call last)",
      "\u001b[0;32m<ipython-input-10-5480191ce247>\u001b[0m in \u001b[0;36m<module>\u001b[0;34m\u001b[0m\n\u001b[1;32m      4\u001b[0m \u001b[0;34m\u001b[0m\u001b[0m\n\u001b[1;32m      5\u001b[0m \u001b[0;31m# Create a sequence of timepoints that a TR occurred on\u001b[0m\u001b[0;34m\u001b[0m\u001b[0;34m\u001b[0m\u001b[0;34m\u001b[0m\u001b[0m\n\u001b[0;32m----> 6\u001b[0;31m \u001b[0mtr_time\u001b[0m \u001b[0;34m=\u001b[0m \u001b[0mnp\u001b[0m\u001b[0;34m.\u001b[0m\u001b[0marange\u001b[0m\u001b[0;34m(\u001b[0m\u001b[0;36m0\u001b[0m\u001b[0;34m,\u001b[0m \u001b[0;34m(\u001b[0m\u001b[0mTRs_run\u001b[0m \u001b[0;34m-\u001b[0m \u001b[0;36m1\u001b[0m\u001b[0;34m)\u001b[0m \u001b[0;34m*\u001b[0m \u001b[0;36m2\u001b[0m \u001b[0;34m+\u001b[0m \u001b[0;36m1\u001b[0m\u001b[0;34m,\u001b[0m \u001b[0;36m2\u001b[0m\u001b[0;34m)\u001b[0m\u001b[0;34m\u001b[0m\u001b[0;34m\u001b[0m\u001b[0m\n\u001b[0m\u001b[1;32m      7\u001b[0m \u001b[0mtime_vals\u001b[0m \u001b[0;34m=\u001b[0m \u001b[0mdata\u001b[0m\u001b[0;34m[\u001b[0m\u001b[0;36m0\u001b[0m\u001b[0;34m:\u001b[0m\u001b[0;36m185\u001b[0m\u001b[0;34m,\u001b[0m \u001b[0;36m0\u001b[0m\u001b[0;34m]\u001b[0m\u001b[0;34m\u001b[0m\u001b[0;34m\u001b[0m\u001b[0m\n\u001b[1;32m      8\u001b[0m \u001b[0mlabels\u001b[0m \u001b[0;34m=\u001b[0m \u001b[0mdata\u001b[0m\u001b[0;34m[\u001b[0m\u001b[0;36m0\u001b[0m\u001b[0;34m:\u001b[0m\u001b[0;36m185\u001b[0m\u001b[0;34m,\u001b[0m \u001b[0;36m1\u001b[0m\u001b[0;34m]\u001b[0m\u001b[0;34m\u001b[0m\u001b[0;34m\u001b[0m\u001b[0m\n",
      "\u001b[0;31mNameError\u001b[0m: name 'TRs_run' is not defined"
     ]
    }
   ],
   "source": [
    "# time shift the data labels to account for HRF lag\n",
    "n_conditions = len(label_dict)\n",
    "cur_pals = sns.color_palette('colorblind', n_colors=n_conditions)\n",
    "\n",
    "# Create a sequence of timepoints that a TR occurred on\n",
    "tr_time = np.arange(0, (TRs_run - 1) * 2 + 1, 2)\n",
    "time_vals = data[0:185, 0]\n",
    "labels = data[0:185, 1]\n",
    "\n",
    "f, ax = plt.subplots(1,1, figsize = (14, 5))\n",
    "    \n",
    "# plot the label for each condition\n",
    "for i_cond in range(n_conditions): \n",
    "    label = list(label_dict.keys())[i_cond]\n",
    "    temp_mask = label == labels\n",
    "    ax.scatter(time_vals[temp_mask], labels[temp_mask], \n",
    "               color = cur_pals[i_cond], marker = 'o')\n",
    "ax.legend(label_dict.values())\n",
    "    \n",
    "# plot the stimuli as a line \n",
    "# ax.plot(time_vals, labels, color = 'black', alpha = .5)\n",
    "ax.plot(tr_time, stim_label_TR[0:TRs_run, 0], c='orange', alpha = .5)\n",
    "\n",
    "ax.set_yticks(list(label_dict.keys()))\n",
    "ax.set_yticklabels(label_dict.values())\n",
    "\n",
    "ax.set_title('Stimulus Presentation for Run 1')\n",
    "ax.set_xlabel('Time in secs')\n"
   ]
  },
  {
   "cell_type": "markdown",
   "id": "188c3d69-8c44-4362-9485-ab417198ec23",
   "metadata": {
    "tags": []
   },
   "source": [
    "## Searchlight (Single Subject)"
   ]
  },
  {
   "cell_type": "code",
   "execution_count": 11,
   "id": "3ce254f2-3444-47b9-bb50-eac5f9a842da",
   "metadata": {},
   "outputs": [
    {
     "data": {
      "application/javascript": [
       "IPython.notebook.set_autosave_interval(5000)"
      ]
     },
     "metadata": {},
     "output_type": "display_data"
    },
    {
     "name": "stdout",
     "output_type": "stream",
     "text": [
      "Autosaving every 5 seconds\n"
     ]
    }
   ],
   "source": [
    "# Import libraries\n",
    "import os, sys\n",
    "import pandas as pd\n",
    "import nibabel as nib\n",
    "import numpy as np \n",
    "import time\n",
    "from nilearn import plotting\n",
    "from brainiak.searchlight.searchlight import Searchlight\n",
    "from brainiak.fcma.preprocessing import prepare_searchlight_mvpa_data\n",
    "from brainiak import io\n",
    "from pathlib import Path\n",
    "from shutil import copyfile\n",
    "\n",
    "# Import machine learning libraries\n",
    "from sklearn.model_selection import StratifiedKFold, GridSearchCV, cross_val_score\n",
    "from sklearn.svm import SVC\n",
    "from sklearn.model_selection import PredefinedSplit\n",
    "from sklearn.svm import LinearSVC\n",
    "from sklearn.metrics import confusion_matrix\n",
    "import sklearn.metrics as skm\n",
    "from scipy.stats import zscore\n",
    "from nilearn.masking import compute_epi_mask\n",
    "from mpi4py import MPI\n",
    "\n",
    "# Import analytics libraries\n",
    "import matplotlib.pyplot as plt\n",
    "import seaborn as sns \n",
    "\n",
    "# Surpress warnings\n",
    "import warnings\n",
    "import sys \n",
    "if not sys.warnoptions:\n",
    "    warnings.simplefilter(\"ignore\")\n",
    "\n",
    "# Set printing precision\n",
    "np.set_printoptions(precision=2, suppress=True)\n",
    "\n",
    "# %matplotlib inline \n",
    "%matplotlib notebook\n",
    "%autosave 5\n",
    "sns.set(style = 'white', context='poster', rc={\"lines.linewidth\": 2.5})\n",
    "sns.set(palette=\"colorblind\")"
   ]
  },
  {
   "cell_type": "code",
   "execution_count": 12,
   "id": "2506d836-48de-40e7-b4f9-515bdcbbbab9",
   "metadata": {},
   "outputs": [],
   "source": [
    "# Define helper function\n",
    "def load_epi_data(subject_name):\n",
    "    # Load MRI file (in Nifti format) of one localizer run\n",
    "    epi_in = os.path.join(data_dir, \"%s_merged.nii.gz\" % (subject_name)) # iiiiii\n",
    "    epi_data = nib.load(epi_in)\n",
    "    print(\"Loading data from %s\" % (epi_in))\n",
    "    return epi_data"
   ]
  },
  {
   "cell_type": "code",
   "execution_count": 13,
   "id": "624e4a3c-fb0b-4410-8e02-fc45c451777f",
   "metadata": {},
   "outputs": [
    {
     "name": "stdout",
     "output_type": "stream",
     "text": [
      "[0 0 0 0 0 1 1 1 1 1 2 2 2 2 2 3 3 3 3 3 4 4 4 4 4]\n"
     ]
    }
   ],
   "source": [
    "# Define general subject info\n",
    "subject_name = 'G01S01'\n",
    "n_runs = 5\n",
    "\n",
    "# Define data paths\n",
    "data_dir = \"/projects/csnl/shared/round_robin_qc/analysis/endorsement/merged_sl/no/\"\n",
    "results_dir = \"/projects/csnl/shared/round_robin_qc/analysis/braniak_tutorials/output/\"\n",
    "mask_dir = \"/projects/csnl/shared/round_robin_qc/analysis/no_st_qc/sub-%s/model/runA.feat/\" % (subject_name)\n",
    "\n",
    "# Load niftis\n",
    "epi_in = os.path.join(data_dir, \"%s_merged.nii.gz\" % (subject_name))\n",
    "bold_data = nib.load(epi_in)\n",
    "mask_in = os.path.join(mask_dir, \"mask.nii.gz\")\n",
    "mask = nib.load(mask_in)\n",
    "\n",
    "# Load onsets\n",
    "onsets = pd.read_csv(\"/projects/csnl/shared/round_robin_qc/analysis/no_st_qc/sl_train_G01S01.csv\")\n",
    "onsets = onsets.values\n",
    "\n",
    "# Load run_ids\n",
    "run_ids = onsets[:,2] - 1\n",
    "print(run_ids)"
   ]
  },
  {
   "cell_type": "code",
   "execution_count": 14,
   "id": "4d67a255-73ff-41da-8a6c-ff70d9bdd8c6",
   "metadata": {},
   "outputs": [],
   "source": [
    "# Pull out the MPI information\n",
    "comm = MPI.COMM_WORLD\n",
    "rank = comm.rank\n",
    "size = comm.size"
   ]
  },
  {
   "cell_type": "code",
   "execution_count": 15,
   "id": "860484e9-f8d3-48ce-89cc-88aa1972ca2b",
   "metadata": {},
   "outputs": [],
   "source": [
    "# Output data path TODO ensure doing per subject output\n",
    "output_path = os.path.join(results_dir,'searchlight_results')\n",
    "if rank == 0:\n",
    "    if not os.path.exists(output_path):\n",
    "        os.makedirs(output_path)"
   ]
  },
  {
   "cell_type": "code",
   "execution_count": 16,
   "id": "8dd2f9b7-4dcd-4047-8eb2-07ec5aaafa9e",
   "metadata": {},
   "outputs": [],
   "source": [
    "# Define our mask\n",
    "mask = mask.get_fdata()\n",
    "coords = np.where(mask)"
   ]
  },
  {
   "cell_type": "code",
   "execution_count": 17,
   "id": "4e181f82-3939-421d-bd7e-127373215345",
   "metadata": {},
   "outputs": [
    {
     "name": "stdout",
     "output_type": "stream",
     "text": [
      "Loading data from /projects/csnl/shared/round_robin_qc/analysis/endorsement/merged_sl/no/G01S01_merged.nii.gz\n",
      "Finished load sub G01S01\n",
      "Finished getdata sub G01S01\n",
      "(104, 104, 72, 25)\n",
      "Finished affine sub G01S01\n",
      "Finished dim sub G01S01\n",
      "(104, 104, 72, 25)\n",
      "(104, 104, 72)\n"
     ]
    }
   ],
   "source": [
    "# Load the data in rank 0\n",
    "if rank == 0:\n",
    "    # Make a function to load the data for one subject's merge file\n",
    "    def load_data(mask_in, subject_name):\n",
    "        epi_data = load_epi_data(subject_name)\n",
    "        print((\"Finished load sub %s\" % (subject_name)))\n",
    "        bold_data = epi_data.get_data()\n",
    "        print((\"Finished getdata sub %s\" % (subject_name)))\n",
    "        print(bold_data.shape)\n",
    "        affine_mat = epi_data.affine\n",
    "        print((\"Finished affine sub %s\" % (subject_name)))\n",
    "        dimsize = epi_data.header.get_zooms()\n",
    "        print((\"Finished dim sub %s\" % (subject_name)))\n",
    "        return bold_data, affine_mat, dimsize\n",
    "    \n",
    "    # Use load_data to write to data   \n",
    "    data, affine_mat, dimsize = load_data(epi_in, subject_name)\n",
    "    print(data.shape)\n",
    "    print(mask.shape)\n",
    "    # extract bold data for non-zero labels\n",
    "    #data = data[:, :, :, label_index]\n",
    "else:\n",
    "    data = None"
   ]
  },
  {
   "cell_type": "markdown",
   "id": "773fa17b-beeb-47f4-b364-89a216e9eb30",
   "metadata": {
    "tags": []
   },
   "source": [
    "To run the [searchlight](http://brainiak.org/docs/brainiak.searchlight.html) function in BrainIAK you need the following parameters:  \n",
    "\n",
    "1. **data** = The brain data as a 4D volume.  \n",
    "2. **mask** = A binary mask specifying the \"center\" voxels in the brain around which you want to perform searchlight analyses. A searchlight will be drawn around every voxel with the value of 1. Hence, if you chose to use the wholebrain mask as the mask for the searchlight procedure, the searchlight may include voxels outside of your mask when the \"center\" voxel is at the border of the mask. It is up to you to decide whether then to include these results.  \n",
    "3. **bcvar** = An additional variable which can be a list, numpy array, dictionary, etc. you want to use in your searchlight kernel. For instance you might want the condition labels so that you can determine to which condition each 3D volume corresponds. If you don't need to broadcast anything, e.g, when doing RSA, set this to 'None'.  \n",
    "4. **sl_rad** = The size of the searchlight's radius, excluding the center voxel. This means the total volume size of the searchlight, if using a cube, is defined as: ((2 * sl_rad) + 1) ^ 3.  \n",
    "5. **max_blk_edge** = When the searchlight function carves the data up into chunks, it doesn't distribute only a single searchlight's worth of data. Instead, it creates a block of data, with the edge length specified by this variable, which determines the number of searchlights to run within a job.  \n",
    "6. **pool_size** = Maximum number of cores running on a block (typically 1).  "
   ]
  },
  {
   "cell_type": "code",
   "execution_count": 18,
   "id": "3ce08bff-4fd1-41cd-9b2b-ad63aa70182d",
   "metadata": {},
   "outputs": [],
   "source": [
    "# Load targets (each subject target)\n",
    "labels = onsets[:,1] - 1\n",
    "\n",
    "# Split data according to run ids\n",
    "ps = PredefinedSplit(run_ids)\n",
    "\n",
    "# Save them as the broadcast variables\n",
    "bcvar = [labels, ps]"
   ]
  },
  {
   "cell_type": "code",
   "execution_count": 19,
   "id": "04d2a755-39ea-4437-81a5-1c7b18c5b6ec",
   "metadata": {},
   "outputs": [
    {
     "data": {
      "text/plain": [
       "[array([0, 1, 2, 3, 4, 0, 1, 2, 3, 4, 0, 1, 2, 3, 4, 0, 1, 2, 3, 4, 0, 1,\n",
       "        2, 3, 4]),\n",
       " PredefinedSplit(test_fold=array([0, 0, 0, 0, 0, 1, 1, 1, 1, 1, 2, 2, 2, 2, 2, 3, 3, 3, 3, 3, 4, 4,\n",
       "        4, 4, 4]))]"
      ]
     },
     "execution_count": 19,
     "metadata": {},
     "output_type": "execute_result"
    }
   ],
   "source": [
    "bcvar"
   ]
  },
  {
   "cell_type": "code",
   "execution_count": 20,
   "id": "75cc01c6-64b8-4a91-bce9-7049a2512beb",
   "metadata": {},
   "outputs": [
    {
     "name": "stdout",
     "output_type": "stream",
     "text": [
      "Setup searchlight inputs\n",
      "Input data shape: (104, 104, 72, 25)\n",
      "Input mask shape: (104, 104, 72)\n",
      "\n"
     ]
    }
   ],
   "source": [
    "# Preset the variables to be used in the searchlight\n",
    "data = data\n",
    "mask = mask\n",
    "bcvar = bcvar\n",
    "sl_rad = 1 # (in mm)\n",
    "max_blk_edge = 5\n",
    "pool_size = 1\n",
    "\n",
    "# Start the clock to time searchlight\n",
    "begin_time = time.time()\n",
    "\n",
    "# Create the searchlight object\n",
    "sl = Searchlight(sl_rad=sl_rad,max_blk_edge=max_blk_edge)\n",
    "print(\"Setup searchlight inputs\")\n",
    "print(\"Input data shape: \" + str(data.shape))\n",
    "print(\"Input mask shape: \" + str(mask.shape) + \"\\n\")\n",
    "\n",
    "# Distribute the information to the searchlights (preparing it to run)\n",
    "sl.distribute([data], mask)\n",
    "\n",
    "# Broadcast variables\n",
    "sl.broadcast(bcvar)"
   ]
  },
  {
   "cell_type": "code",
   "execution_count": null,
   "id": "dbbb8c5a-a144-4ee0-b50e-de24e92ed0ed",
   "metadata": {
    "jupyter": {
     "source_hidden": true
    },
    "tags": []
   },
   "outputs": [],
   "source": [
    "# dummy test classifier, not for use!!\n",
    "\n",
    "# Set up the kernel function, in this case an SVM (use linear SVM , LORO)\n",
    "def calc_svm(data, sl_mask, myrad, bcvar):\n",
    "    if np.sum(sl_mask) < 14:\n",
    "        return -1\n",
    "    scores = []\n",
    "    #cnf_matrix = []\n",
    "    specificity = []\n",
    "    sensitivity = []\n",
    "    labels, ps = bcvar[0], bcvar[1]\n",
    "\n",
    "    # Reshape the data\n",
    "    sl_num_vx = sl_mask.shape[0] * sl_mask.shape[1] * sl_mask.shape[2]\n",
    "    num_epoch = data[0].shape[3]\n",
    "    data_sl = data[0].reshape(sl_num_vx, num_epoch).T\n",
    "    \n",
    "    # Classifier: loop over all runs to leave each run out once\n",
    "    model = LinearSVC()\n",
    "    for train_index, test_index in ps.split():\n",
    "        X_train, X_test = data_sl[train_index], data_sl[test_index]\n",
    "        y_train, y_test = labels[train_index], labels[test_index]\n",
    "        # Fit a svm\n",
    "        model.fit(X_train, y_train)\n",
    "        # Calculate the accuracy for the hold out run\n",
    "        score = model.score(X_test, y_test)\n",
    "        scores.append(score)\n",
    "        #print('score')\n",
    "        #print(score)\n",
    "        \n",
    "        # Calculate the specificity\n",
    "        y_true = y_test\n",
    "        y_pred = model.predict(X_test)\n",
    "        #print('y_true')\n",
    "        #print(y_true)\n",
    "        #print('y_pred')\n",
    "        #print(y_pred)\n",
    "        cnf_matrix = confusion_matrix(y_true, y_pred, labels=y_true) # this might be wrong # tn, fp, fn, tp\n",
    "        #cm = skm.multilabel_confusion_matrix(y_true, y_pred, labels=y_true)\n",
    "        #print('confusion matrix output')\n",
    "        #print(cm)\n",
    "        #cnf_matrix.append(cm)\n",
    "        #print(specificity)\n",
    "        print(cnf_matrix)\n",
    "        \n",
    "        FP = cnf_matrix.sum(axis=0) - np.diag(cnf_matrix) \n",
    "        FN = cnf_matrix.sum(axis=1) - np.diag(cnf_matrix)\n",
    "        TP = np.diag(cnf_matrix)\n",
    "        TN = cnf_matrix.sum() - (FP + FN + TP)\n",
    "        FP = FP.astype(float)\n",
    "        FN = FN.astype(float)\n",
    "        TP = TP.astype(float)\n",
    "        TN = TN.astype(float)\n",
    "        # Sensitivity, hit rate, recall, or true positive rate (we are getting macro-recall)\n",
    "        TPR = TP/(TP+FN)\n",
    "        sensitivity.append(TPR)\n",
    "        #print(TPR)\n",
    "        # Specificity or true negative rate\n",
    "        TNR = TN/(TN+FP)\n",
    "        specificity.append(TNR)\n",
    "        #print(TNR)\n",
    "        \n",
    "        \n",
    "        # Calculate the sensitivity\n",
    "        #cm_report = skm.classification_report(y_true ,y_pred, output_dict=True)\n",
    "        #sensitivity = cm_report['weighted avg']['recall'] #tn / (tn+fp)\n",
    "        #sensitivities.append(sensitivity)\n",
    "        #print('sensitivity')\n",
    "        #print(sensitivity)\n",
    "        #print(sensitivities)\n",
    "    \n",
    "    \n",
    "    \n",
    "    print('arrays: scores')\n",
    "    print(scores)\n",
    "    print('arrays: sensitivity')\n",
    "    print(sensitivity)\n",
    "    print('arrays: specificity')\n",
    "    print(specificity)\n",
    "    print('final scores: scores, sensitivity, specificity')\n",
    "    print(np.mean(scores), np.mean(sensitivity), np.mean(specificity))\n",
    "        \n",
    "    return np.mean(scores)"
   ]
  },
  {
   "cell_type": "code",
   "execution_count": 21,
   "id": "df3aebc7-2fc8-421e-b0e6-cfe77b4a68f1",
   "metadata": {
    "tags": []
   },
   "outputs": [],
   "source": [
    "# Set up the kernel function, in this case an SVM (use linear SVM , LORO)\n",
    "def calc_svm(data, sl_mask, myrad, bcvar):\n",
    "    if np.sum(sl_mask) < 14:\n",
    "        return -1\n",
    "    scores = []\n",
    "    #cnf_matrix = []\n",
    "    specificity = []\n",
    "    sensitivity = []\n",
    "    labels, ps = bcvar[0], bcvar[1]\n",
    "\n",
    "    # Reshape the data\n",
    "    sl_num_vx = sl_mask.shape[0] * sl_mask.shape[1] * sl_mask.shape[2]\n",
    "    num_epoch = data[0].shape[3]\n",
    "    data_sl = data[0].reshape(sl_num_vx, num_epoch).T\n",
    "    \n",
    "    # Classifier: loop over all runs to leave each run out once\n",
    "    model = LinearSVC()\n",
    "    for train_index, test_index in ps.split():\n",
    "        X_train, X_test = data_sl[train_index], data_sl[test_index]\n",
    "        y_train, y_test = labels[train_index], labels[test_index]\n",
    "        # Fit a svm\n",
    "        model.fit(X_train, y_train)\n",
    "        # Calculate the accuracy for the hold out run\n",
    "        score = model.score(X_test, y_test)\n",
    "        scores.append(score)\n",
    "        \n",
    "        # Generate a confusion matrix to get sensitivity, specificity\n",
    "        y_true = y_test\n",
    "        y_pred = model.predict(X_test)\n",
    "        cnf_matrix = confusion_matrix(y_true, y_pred, labels=y_true) # this might be wrong # tp, fn, fp, tn\n",
    "        #print(cnf_matrix)\n",
    "        FP = cnf_matrix.sum(axis=0) - np.diag(cnf_matrix) \n",
    "        FN = cnf_matrix.sum(axis=1) - np.diag(cnf_matrix)\n",
    "        TP = np.diag(cnf_matrix)\n",
    "        TN = cnf_matrix.sum() - (FP + FN + TP)\n",
    "        FP = FP.astype(float)\n",
    "        FN = FN.astype(float)\n",
    "        TP = TP.astype(float)\n",
    "        TN = TN.astype(float)\n",
    "        # Calculate the Sensitivity, hit rate, recall, or true positive rate (we are getting macro-recall)\n",
    "        TPR = TP/(TP+FN)\n",
    "        #print(TPR)\n",
    "        sensitivity.append(TPR)\n",
    "        # Calculate the Specificity or true negative rate\n",
    "        TNR = TN/(TN+FP)\n",
    "        #print(TNR)\n",
    "        specificity.append(TNR)\n",
    "\n",
    "    #print('arrays: accuracy')\n",
    "    #print(scores)\n",
    "    #print('arrays: sensitivity')\n",
    "    #print(sensitivity)\n",
    "    #print('arrays: specificity')\n",
    "    #print(specificity)\n",
    "    print('final scores: accuracy, sensitivity, specificity')\n",
    "    print(np.mean(scores), np.mean(sensitivity), np.mean(specificity))\n",
    "        \n",
    "    return np.mean(scores), np.mean(sensitivity), np.mean(specificity)"
   ]
  },
  {
   "cell_type": "code",
   "execution_count": 22,
   "id": "e8176adc-20b7-4b98-8058-7bc7259f5625",
   "metadata": {},
   "outputs": [],
   "source": [
    "# inspecting the SL function (arbitrary)\n",
    "import inspect\n",
    "sc = inspect.getsource(sl.run_searchlight)\n",
    "#print(sc)\n",
    "\n",
    "sp = sl.run_searchlight.__globals__['__file__']\n",
    "#print(sp)\n",
    "\n",
    "#/packages/miniconda/20190102/envs/brainiak-20221110/lib/python3.6/site-packages/brainiak/searchlight/searchlight.py"
   ]
  },
  {
   "cell_type": "code",
   "execution_count": 23,
   "id": "c2061027-ac8e-4bf8-bcea-aea46445506a",
   "metadata": {},
   "outputs": [
    {
     "data": {
      "text/plain": [
       "'/projects/csnl/shared/round_robin_qc/analysis/braniak_tutorials/output/searchlight_results'"
      ]
     },
     "execution_count": 23,
     "metadata": {},
     "output_type": "execute_result"
    }
   ],
   "source": [
    "output_path"
   ]
  },
  {
   "cell_type": "code",
   "execution_count": null,
   "id": "cff4adff-f78d-41e8-81e4-b58ae9dc3f30",
   "metadata": {},
   "outputs": [],
   "source": [
    "# Run the searchlight analysis\n",
    "print(\"Begin SearchLight in rank %s\\n\" % rank)\n",
    "sl_result = sl.run_searchlight(calc_svm, pool_size=pool_size)\n",
    "print(\"End SearchLight in rank %s\\n\" % rank)\n",
    "\n",
    "# Only save the data if this is the first core\n",
    "if rank == 0:\n",
    "    # Convert NaN to 0 in the output\n",
    "    sl_result = np.nan_to_num(sl_result[mask==1])\n",
    "    # Reshape\n",
    "    result_vol = np.zeros((mask.shape[0], mask.shape[1], mask.shape[2]))  \n",
    "    result_vol[coords[0], coords[1], coords[2]] = sl_result   \n",
    "    # Convert the output into what can be used\n",
    "    result_vol = result_vol.astype('double')   \n",
    "    \n",
    "    # Save the average result\n",
    "    output_name = os.path.join(output_path, '%s_MPFC_SL.nii.gz' % (subject_name))\n",
    "    sl_nii = nib.Nifti1Image(result_vol, affine_mat)\n",
    "    hdr = sl_nii.header\n",
    "    hdr.set_zooms((dimsize[0], dimsize[1], dimsize[2]))\n",
    "    nib.save(sl_nii, output_name)  # Save    \n",
    "    \n",
    "    print('Finished searchlight')\n",
    "    end_time = time.time()\n",
    "    print('Total searchlight duration (including start up time): %.2f' % (end_time - begin_time))"
   ]
  },
  {
   "cell_type": "code",
   "execution_count": null,
   "id": "222254b6-1a55-4f69-bae9-bef9dd80aa85",
   "metadata": {},
   "outputs": [],
   "source": [
    "# then adapt to run across all subjects! no"
   ]
  },
  {
   "cell_type": "code",
   "execution_count": null,
   "id": "79841b22-82da-4676-8e5a-cbcf25f465fd",
   "metadata": {},
   "outputs": [],
   "source": [
    "# output an accuracy map for each subject\n",
    "# and then accuracy map - chance (-.2 or 20%)\n",
    "# and optionally, sensitivity and specificity as additional nifty files"
   ]
  },
  {
   "cell_type": "code",
   "execution_count": null,
   "id": "95041504-c2da-4800-8782-30c180044553",
   "metadata": {},
   "outputs": [],
   "source": []
  }
 ],
 "metadata": {
  "kernelspec": {
   "display_name": "Python 3",
   "language": "python",
   "name": "python3"
  },
  "language_info": {
   "codemirror_mode": {
    "name": "ipython",
    "version": 3
   },
   "file_extension": ".py",
   "mimetype": "text/x-python",
   "name": "python",
   "nbconvert_exporter": "python",
   "pygments_lexer": "ipython3",
   "version": "3.6.15"
  }
 },
 "nbformat": 4,
 "nbformat_minor": 5
}
